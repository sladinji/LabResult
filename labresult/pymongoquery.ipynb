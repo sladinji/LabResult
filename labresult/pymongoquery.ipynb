{
 "cells": [
  {
   "cell_type": "code",
   "execution_count": 68,
   "metadata": {
    "collapsed": false
   },
   "outputs": [
    {
     "data": {
      "text/plain": [
       "'entête-labresult.pdf'"
      ]
     },
     "execution_count": 68,
     "metadata": {},
     "output_type": "execute_result"
    }
   ],
   "source": [
    "from labresult.lib.model import get_option\n",
    "op = get_option(\"credential_email.logo\",\"toto\")\n",
    "Underlay.objects.first().recto.name\n"
   ]
  },
  {
   "cell_type": "code",
   "execution_count": 73,
   "metadata": {
    "collapsed": false
   },
   "outputs": [
    {
     "data": {
      "text/plain": [
       "[]"
      ]
     },
     "execution_count": 73,
     "metadata": {},
     "output_type": "execute_result"
    }
   ],
   "source": [
    "Option.objects(key=\"credential_email.logo\")\n"
   ]
  },
  {
   "cell_type": "code",
   "execution_count": 80,
   "metadata": {
    "collapsed": false
   },
   "outputs": [
    {
     "name": "stdout",
     "output_type": "stream",
     "text": [
      "73320\n",
      "[]\n"
     ]
    },
    {
     "data": {
      "text/plain": [
       "<Patient: Mr Jean Valjean>"
      ]
     },
     "execution_count": 80,
     "metadata": {},
     "output_type": "execute_result"
    }
   ],
   "source": [
    "from labresult.model import *\n",
    "\n",
    "user = User.objects(email=\"dowst@yopmail.com\").get()\n",
    "print(user.credential_code)\n",
    "print(user.messages)\n",
    "user.update(unset__messages=1)\n",
    "user.save()"
   ]
  },
  {
   "cell_type": "code",
   "execution_count": 12,
   "metadata": {
    "collapsed": false
   },
   "outputs": [
    {
     "data": {
      "text/plain": [
       "datetime.datetime(2015, 6, 3, 12, 8, 40, 188219)"
      ]
     },
     "execution_count": 12,
     "metadata": {},
     "output_type": "execute_result"
    }
   ],
   "source": [
    "import datetime\n",
    "datetime.datetime.utcnow()"
   ]
  },
  {
   "cell_type": "code",
   "execution_count": 1,
   "metadata": {
    "collapsed": false
   },
   "outputs": [
    {
     "name": "stderr",
     "output_type": "stream",
     "text": [
      "/home/dowst/projets/labresult/lib/python3.4/site-packages/pkg_resources.py:1049: UserWarning: /home/dowst/.python-eggs is writable by group/others and vulnerable to attack when used with get_resource_filename. Consider a more secure location (set with .set_extraction_path or the PYTHON_EGG_CACHE environment variable).\n",
      "  warnings.warn(msg, UserWarning)\n"
     ]
    }
   ],
   "source": [
    "import labresult\n",
    "\n",
    "app = labresult.create_app(\"dev\")"
   ]
  },
  {
   "cell_type": "code",
   "execution_count": 2,
   "metadata": {
    "collapsed": false
   },
   "outputs": [
    {
     "ename": "IndexError",
     "evalue": "no such item for Cursor instance",
     "output_type": "error",
     "traceback": [
      "\u001b[1;31m---------------------------------------------------------------------------\u001b[0m\n\u001b[1;31mIndexError\u001b[0m                                Traceback (most recent call last)",
      "\u001b[1;32m<ipython-input-2-2f32ab77fd3e>\u001b[0m in \u001b[0;36m<module>\u001b[1;34m()\u001b[0m\n\u001b[0;32m      2\u001b[0m \u001b[1;32mfrom\u001b[0m \u001b[0mmongoengine\u001b[0m \u001b[1;32mimport\u001b[0m \u001b[0mQ\u001b[0m\u001b[1;33m\u001b[0m\u001b[0m\n\u001b[0;32m      3\u001b[0m \u001b[1;33m\u001b[0m\u001b[0m\n\u001b[1;32m----> 4\u001b[1;33m \u001b[0mpat\u001b[0m \u001b[1;33m=\u001b[0m \u001b[0mPatient\u001b[0m\u001b[1;33m.\u001b[0m\u001b[0mobjects\u001b[0m\u001b[1;33m[\u001b[0m\u001b[1;36m3\u001b[0m\u001b[1;33m]\u001b[0m\u001b[1;33m\u001b[0m\u001b[0m\n\u001b[0m\u001b[0;32m      5\u001b[0m \u001b[0mhw\u001b[0m \u001b[1;33m=\u001b[0m \u001b[0mHealthWorker\u001b[0m\u001b[1;33m.\u001b[0m\u001b[0mobjects\u001b[0m\u001b[1;33m[\u001b[0m\u001b[1;36m2\u001b[0m\u001b[1;33m]\u001b[0m\u001b[1;33m\u001b[0m\u001b[0m\n\u001b[0;32m      6\u001b[0m \u001b[0mhw\u001b[0m \u001b[1;33m=\u001b[0m \u001b[0mDocument\u001b[0m\u001b[1;33m.\u001b[0m\u001b[0mobjects\u001b[0m\u001b[1;33m(\u001b[0m\u001b[0mhealthworkers__exists\u001b[0m \u001b[1;33m=\u001b[0m \u001b[1;32mTrue\u001b[0m\u001b[1;33m)\u001b[0m\u001b[1;33m[\u001b[0m\u001b[1;36m0\u001b[0m\u001b[1;33m]\u001b[0m\u001b[1;33m.\u001b[0m\u001b[0mhealthworkers\u001b[0m\u001b[1;33m[\u001b[0m\u001b[1;36m0\u001b[0m\u001b[1;33m]\u001b[0m\u001b[1;33m.\u001b[0m\u001b[0muser\u001b[0m\u001b[1;33m\u001b[0m\u001b[0m\n",
      "\u001b[1;32m/home/dowst/projets/labresult/lib/python3.4/site-packages/mongoengine/queryset/base.py\u001b[0m in \u001b[0;36m__getitem__\u001b[1;34m(self, key)\u001b[0m\n\u001b[0;32m    148\u001b[0m             \u001b[1;32mif\u001b[0m \u001b[0mqueryset\u001b[0m\u001b[1;33m.\u001b[0m\u001b[0m_as_pymongo\u001b[0m\u001b[1;33m:\u001b[0m\u001b[1;33m\u001b[0m\u001b[0m\n\u001b[0;32m    149\u001b[0m                 \u001b[1;32mreturn\u001b[0m \u001b[0mqueryset\u001b[0m\u001b[1;33m.\u001b[0m\u001b[0m_get_as_pymongo\u001b[0m\u001b[1;33m(\u001b[0m\u001b[0mnext\u001b[0m\u001b[1;33m(\u001b[0m\u001b[0mqueryset\u001b[0m\u001b[1;33m.\u001b[0m\u001b[0m_cursor\u001b[0m\u001b[1;33m)\u001b[0m\u001b[1;33m)\u001b[0m\u001b[1;33m\u001b[0m\u001b[0m\n\u001b[1;32m--> 150\u001b[1;33m             return queryset._document._from_son(queryset._cursor[key],\n\u001b[0m\u001b[0;32m    151\u001b[0m                                                 _auto_dereference=self._auto_dereference)\n\u001b[0;32m    152\u001b[0m         \u001b[1;32mraise\u001b[0m \u001b[0mAttributeError\u001b[0m\u001b[1;33m\u001b[0m\u001b[0m\n",
      "\u001b[1;32m/home/dowst/projets/labresult/lib/python3.4/site-packages/pymongo/cursor.py\u001b[0m in \u001b[0;36m__getitem__\u001b[1;34m(self, index)\u001b[0m\n\u001b[0;32m    595\u001b[0m             \u001b[1;32mfor\u001b[0m \u001b[0mdoc\u001b[0m \u001b[1;32min\u001b[0m \u001b[0mclone\u001b[0m\u001b[1;33m:\u001b[0m\u001b[1;33m\u001b[0m\u001b[0m\n\u001b[0;32m    596\u001b[0m                 \u001b[1;32mreturn\u001b[0m \u001b[0mdoc\u001b[0m\u001b[1;33m\u001b[0m\u001b[0m\n\u001b[1;32m--> 597\u001b[1;33m             \u001b[1;32mraise\u001b[0m \u001b[0mIndexError\u001b[0m\u001b[1;33m(\u001b[0m\u001b[1;34m\"no such item for Cursor instance\"\u001b[0m\u001b[1;33m)\u001b[0m\u001b[1;33m\u001b[0m\u001b[0m\n\u001b[0m\u001b[0;32m    598\u001b[0m         raise TypeError(\"index %r cannot be applied to Cursor \"\n\u001b[0;32m    599\u001b[0m                         \"instances\" % index)\n",
      "\u001b[1;31mIndexError\u001b[0m: no such item for Cursor instance"
     ]
    }
   ],
   "source": [
    "from labresult.model import *\n",
    "from mongoengine import Q\n",
    "\n",
    "pat = Patient.objects[3]\n",
    "hw = HealthWorker.objects[2]\n",
    "hw = Document.objects(healthworkers__exists = True)[0].healthworkers[0].user\n",
    "pat = Document.objects(healthworkers__exists = True)[0].patient.user\n",
    "Document.objects(healthworkers__user = hw, patient__user = pat).first()"
   ]
  },
  {
   "cell_type": "code",
   "execution_count": 2,
   "metadata": {
    "collapsed": false
   },
   "outputs": [
    {
     "name": "stdout",
     "output_type": "stream",
     "text": [
      "from kombu.common import Broadcast\n",
      "from kombu import Queue\n",
      "\n",
      "class Config(object):\n",
      "    SECRET_KEY = b'`\\xae\\xde\\xa6\\xe7\\xeb\\x14\\x0eh\\\\\\xf8\\xd55\\xfdf\\x0c\\x95\\xb5\\x11\\x0fbIE\\x98'\n",
      "    MONGODB_SETTINGS = {'DB': 'lrtest', 'HOST':'localhost'}\n",
      "    BABEL_DEFAULT_LOCALE = 'fr'\n",
      "    CELERY_BROKER_URL = 'amqp://localhost//'\n",
      "    CELERY_RESULT_BACKEND = 'amqp://localhost//'\n",
      "    CELERY_TASK_SERIALIZER = 'pickle'\n",
      "    CELERY_RESULT_SERIALIZER = 'pickle'\n",
      "    CELERY_ACCEPT_CONTENT=['pickle']\n",
      "    CELERY_TIMEZONE = 'Europe/Paris'\n",
      "    CELERY_ENABLE_UTC = True\n",
      "    CELERY_QUEUES = (Broadcast('broadcast_tasks'), Queue(\"default\") )\n",
      "    CELERY_DEFAULT_QUEUE = 'default'\n",
      "    CELERY_ROUTES = {\n",
      "            'default': {\n",
      "                \"exchange\": \"default\",\n",
      "                 \"binding_key\": \"default\",\n",
      "            },\n",
      "    }\n",
      "    CELERYD_POOL_RESTARTS = True\n",
      "    DEBUG = False\n",
      "    TESTING = False\n",
      "    HOST = '0.0.0.0'\n",
      "    SEND_FILE_MAX_AGE_DEFAULT = 0\n",
      "\n",
      "class ProductionConfig(Config):\n",
      "    MONGODB_SETTINGS = {'DB': 'lrprod', 'HOST':'mongoserver'}\n",
      "    CELERY_BROKER_URL = 'amqp://celerybroker//'\n",
      "    CELERY_RESULT_BACKEND = 'amqp://celeryresult//'\n",
      "\n",
      "class DevConfig(Config):\n",
      "    MONGODB_SETTINGS = {'DB': 'lrdev', 'HOST':'localhost'}\n",
      "    DEBUG = True\n",
      "    #CELERY_ALWAYS_EAGER = True\n",
      "\n",
      "class TestConfig(Config):\n",
      "    TESTING = True\n",
      "    CELERY_ALWAYS_EAGER = True\n",
      "\n",
      "class T300Config(Config):\n",
      "    MONGODB_SETTINGS = {'DB': 'lrdev', 'HOST':'192.168.1.15'}\n",
      "    CELERY_BROKER_URL = 'amqp://192.168.1.15//'\n",
      "    CELERY_RESULT_BACKEND = 'amqp://192.168.1.15//'\n",
      "\n"
     ]
    }
   ],
   "source": [
    "data = open(\"labresult/config.py\", \"r\").read()\n",
    "print(data)"
   ]
  },
  {
   "cell_type": "code",
   "execution_count": 5,
   "metadata": {
    "collapsed": false
   },
   "outputs": [
    {
     "data": {
      "text/plain": [
       "[]"
      ]
     },
     "execution_count": 5,
     "metadata": {},
     "output_type": "execute_result"
    }
   ],
   "source": [
    "from labresult.model import *\n",
    "PublicationRule.objects"
   ]
  },
  {
   "cell_type": "code",
   "execution_count": 3,
   "metadata": {
    "collapsed": false
   },
   "outputs": [
    {
     "data": {
      "text/plain": [
       "<Administrator: ?>"
      ]
     },
     "execution_count": 3,
     "metadata": {},
     "output_type": "execute_result"
    }
   ],
   "source": [
    "dowst = Administrator(login=\"dowst\", pass2hash= \"dowst\", account_activated=True)\n",
    "dowst.save()"
   ]
  },
  {
   "cell_type": "code",
   "execution_count": 7,
   "metadata": {
    "collapsed": false
   },
   "outputs": [
    {
     "data": {
      "text/plain": [
       "True"
      ]
     },
     "execution_count": 7,
     "metadata": {},
     "output_type": "execute_result"
    }
   ],
   "source": [
    "dowst = Administrator.objects(login=\"dowst\").get()\n",
    "dowst.set_pass(\"dowst\")\n",
    "dowst.account_activated"
   ]
  }
 ],
 "metadata": {
  "kernelspec": {
   "display_name": "Python 3",
   "language": "python",
   "name": "python3"
  },
  "language_info": {
   "codemirror_mode": {
    "name": "ipython",
    "version": 3
   },
   "file_extension": ".py",
   "mimetype": "text/x-python",
   "name": "python",
   "nbconvert_exporter": "python",
   "pygments_lexer": "ipython3",
   "version": "3.4.2"
  }
 },
 "nbformat": 4,
 "nbformat_minor": 0
}
