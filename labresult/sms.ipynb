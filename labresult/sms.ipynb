{
 "cells": [
  {
   "cell_type": "code",
   "execution_count": 11,
   "metadata": {
    "collapsed": false
   },
   "outputs": [
    {
     "data": {
      "text/plain": [
       "str"
      ]
     },
     "execution_count": 11,
     "metadata": {},
     "output_type": "execute_result"
    }
   ],
   "source": [
    "type(response.findtext('status'))"
   ]
  },
  {
   "cell_type": "code",
   "execution_count": 10,
   "metadata": {
    "collapsed": false
   },
   "outputs": [
    {
     "name": "stdout",
     "output_type": "stream",
     "text": [
      "https://api.allmysms.com/http/9.0/sendSms/?login=labresult&apiKey=ca5293b37f6f5d8&smsData=%3CDATA%3E%3CMESSAGE%3E%3C%21%5BCDATA%5BVotre+code+de+v%C3%A9rification+est+%3A%0A%0A123456%0A%0AIl+est+valable+20+minutes.+LabResult+vous+remercie.%5D%5D%3E%3C%2FMESSAGE%3E%3CTPOA%3ELabResult%3C%2FTPOA%3E%3CSMS%3E%3CMOBILEPHONE%3E0782423212%3C%2FMOBILEPHONE%3E%3C%2FSMS%3E%3C%2FDATA%3E\n",
      "100\n"
     ]
    }
   ],
   "source": [
    "import urllib\n",
    "import xml.etree.ElementTree as ET\n",
    "smsData = '<DATA><MESSAGE><![CDATA[Votre code de vérification est :\\n\\n123456\\n\\nIl est valable 20 minutes. LabResult vous remercie.]]></MESSAGE><TPOA>LabResult</TPOA><SMS><MOBILEPHONE>0782423212</MOBILEPHONE></SMS></DATA>'\n",
    "urlbase = 'https://api.allmysms.com/http/9.0/sendSms/?'\n",
    "urlparam = urllib.parse.urlencode([('login','labresult'),('apiKey','ca5293b37f6f5d8'),('smsData',smsData)])\n",
    "print(urlbase+urlparam)\n",
    "response = ET.parse(urllib.request.urlopen(urlbase+urlparam)).getroot()\n",
    "print(response.findtext('status'))"
   ]
  }
 ],
 "metadata": {
  "kernelspec": {
   "display_name": "Python 3",
   "language": "python",
   "name": "python3"
  },
  "language_info": {
   "codemirror_mode": {
    "name": "ipython",
    "version": 3
   },
   "file_extension": ".py",
   "mimetype": "text/x-python",
   "name": "python",
   "nbconvert_exporter": "python",
   "pygments_lexer": "ipython3",
   "version": "3.4.2"
  }
 },
 "nbformat": 4,
 "nbformat_minor": 0
}
