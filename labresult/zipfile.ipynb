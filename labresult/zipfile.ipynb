{
 "metadata": {
  "name": "",
  "signature": "sha256:99b567bbbe64815d05f364d7ec852d2fb066a8f180be455f0625969c0bb6557f"
 },
 "nbformat": 3,
 "nbformat_minor": 0,
 "worksheets": [
  {
   "cells": [
    {
     "cell_type": "code",
     "collapsed": false,
     "input": [
      "from io import BytesIO\n",
      "from zipfile import ZipFile\n",
      "\n",
      "fp = BytesIO()\n",
      "img1 = open('../labmobile/img.png', 'rb').read()\n",
      "img2 = open('../labmobile/imgkivy.png', 'rb').read()\n",
      "with ZipFile(fp, 'w') as myzip:\n",
      "    myzip.writestr('img1.png', img1)\n",
      "    myzip.writestr('img2.png', img2)\n",
      "fp.seek(0)\n",
      "len(fp.read())\n",
      "    "
     ],
     "language": "python",
     "metadata": {},
     "outputs": [
      {
       "metadata": {},
       "output_type": "pyout",
       "prompt_number": 9,
       "text": [
        "78417"
       ]
      }
     ],
     "prompt_number": 9
    }
   ],
   "metadata": {}
  }
 ]
}