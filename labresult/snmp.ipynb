{
 "metadata": {
  "name": "",
  "signature": "sha256:e5c8340ca78bb30d64934d9fee03778c8ea224eae2c80c7a13556db07edcd9bd"
 },
 "nbformat": 3,
 "nbformat_minor": 0,
 "worksheets": [
  {
   "cells": [
    {
     "cell_type": "code",
     "collapsed": false,
     "input": [
      "from pysnmp.entity.rfc3413.oneliner import cmdgen\n",
      "\n",
      "cmdGen = cmdgen.CommandGenerator()\n",
      "\n",
      "errorIndication, errorStatus, errorIndex, varBinds = cmdGen.getCmd(\n",
      "    cmdgen.CommunityData('public'),\n",
      "    cmdgen.UdpTransportTarget(('192.168.1.42', 161)),\n",
      "    cmdgen.MibVariable('SNMPv2-MIB', 'sysName', 0)\n",
      ")\n",
      "\n",
      "# Check for errors and print out results\n",
      "if errorIndication:\n",
      "    print(errorIndication)\n",
      "else:\n",
      "    if errorStatus:\n",
      "        print('%s at %s' % (\n",
      "            errorStatus.prettyPrint(),\n",
      "            errorIndex and varBinds[int(errorIndex)-1] or '?'\n",
      "            )\n",
      "        )\n",
      "    else:\n",
      "        for name, val in varBinds:\n",
      "            print(val.__dict__)\n",
      "            print('%s = %s' % (name.prettyPrint(), val.prettyPrint()))\n"
     ],
     "language": "python",
     "metadata": {},
     "outputs": [
      {
       "output_type": "stream",
       "stream": "stdout",
       "text": [
        "{'_subtypeSpec': ConstraintsIntersection(ConstraintsIntersection(), ValueSizeConstraint(0, 65535)), '_value': b'RAC_D0QRM4J', '_OctetString__intValue': None, '_tagSet': TagSet(Tag(tagClass=0, tagFormat=0, tagId=4)), '_len': None, '_AbstractSimpleAsn1Item__hashedValue': 3581473661725342768, '_encoding': 'us-ascii'}\n",
        "1.3.6.1.2.1.1.5.0 = b'RAC_D0QRM4J'\n"
       ]
      }
     ],
     "prompt_number": 9
    },
    {
     "cell_type": "code",
     "collapsed": false,
     "input": [],
     "language": "python",
     "metadata": {},
     "outputs": []
    }
   ],
   "metadata": {}
  }
 ]
}